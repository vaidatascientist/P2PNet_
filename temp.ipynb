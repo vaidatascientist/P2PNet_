{
 "cells": [
  {
   "cell_type": "code",
   "execution_count": 2,
   "metadata": {},
   "outputs": [],
   "source": [
    "file_path = \"./DATA_ROOT/fiby_train.list\"  # Specify the file path\n",
    "file = open(file_path, \"w\")  # Open the file in write mode\n",
    "\n",
    "for i in range(1, 6829):\n",
    "    frame_number = str(i).zfill(5)  # Zero-pad the frame number with leading zeros\n",
    "    output_text = f\"train/frame_{frame_number}.jpg train/frame_{frame_number}.txt\\n\"\n",
    "    file.write(output_text)  # Write the output text to the file\n",
    "\n",
    "file.close()  # Close the file"
   ]
  },
  {
   "cell_type": "code",
   "execution_count": 1,
   "metadata": {},
   "outputs": [],
   "source": [
    "file_path = \"./DATA_ROOT/fiby_test.list\"  # Specify the file path\n",
    "file = open(file_path, \"w\")  # Open the file in write mode\n",
    "\n",
    "for i in range(1, 1708):\n",
    "    frame_number = str(i).zfill(5)  # Zero-pad the frame number with leading zeros\n",
    "    output_text = f\"test/frame_{frame_number}.jpg test/frame_{frame_number}.txt\\n\"\n",
    "    file.write(output_text)  # Write the output text to the file\n",
    "\n",
    "file.close()  # Close the file"
   ]
  },
  {
   "cell_type": "code",
   "execution_count": 3,
   "metadata": {},
   "outputs": [
    {
     "name": "stdout",
     "output_type": "stream",
     "text": [
      "Number of files in the folder: 3317.0\n"
     ]
    }
   ],
   "source": [
    "import os\n",
    "\n",
    "def count_files(folder_path):\n",
    "    file_count = 0\n",
    "\n",
    "    # Iterate over all files in the folder\n",
    "    for _, _, files in os.walk(folder_path):\n",
    "        file_count += len(files)\n",
    "\n",
    "    return file_count\n",
    "\n",
    "# Provide the folder path for which you want to count the files\n",
    "folder_path = '/home/ubuntu/P2PNet_/DATA_ROOT/train'\n",
    "\n",
    "# Call the count_files function and print the result\n",
    "num_files = count_files(folder_path)\n",
    "print(f\"Number of files in the folder: {num_files/2}\")\n"
   ]
  },
  {
   "cell_type": "code",
   "execution_count": 4,
   "metadata": {},
   "outputs": [
    {
     "name": "stdout",
     "output_type": "stream",
     "text": [
      "Number of available CUDA devices: 4\n",
      "Device 0: Tesla V100-SXM2-16GB\n",
      "Device 1: Tesla V100-SXM2-16GB\n",
      "Device 2: Tesla V100-SXM2-16GB\n",
      "Device 3: Tesla V100-SXM2-16GB\n"
     ]
    }
   ],
   "source": [
    "import torch\n",
    "\n",
    "device_count = torch.cuda.device_count()\n",
    "print(f\"Number of available CUDA devices: {device_count}\")\n",
    "\n",
    "for i in range(device_count):\n",
    "    device_name = torch.cuda.get_device_name(i)\n",
    "    print(f\"Device {i}: {device_name}\")\n"
   ]
  }
 ],
 "metadata": {
  "kernelspec": {
   "display_name": "venv",
   "language": "python",
   "name": "python3"
  },
  "language_info": {
   "codemirror_mode": {
    "name": "ipython",
    "version": 3
   },
   "file_extension": ".py",
   "mimetype": "text/x-python",
   "name": "python",
   "nbconvert_exporter": "python",
   "pygments_lexer": "ipython3",
   "version": "3.8.10"
  },
  "orig_nbformat": 4
 },
 "nbformat": 4,
 "nbformat_minor": 2
}
