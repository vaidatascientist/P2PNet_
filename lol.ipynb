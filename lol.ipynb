{
 "cells": [
  {
   "cell_type": "code",
   "execution_count": 17,
   "metadata": {},
   "outputs": [],
   "source": [
    "import os\n",
    "from PIL import Image\n",
    "\n",
    "def resize_and_scale_points(input_img_path, input_txt_path, threshold_width=701, new_width=700):\n",
    "    # Open the image and check its size\n",
    "    img = Image.open(input_img_path)\n",
    "    original_width, original_height = img.size\n",
    "    \n",
    "    # If the image width exceeds the threshold, resize the image and adjust the points\n",
    "    if original_width > threshold_width:\n",
    "        # Calculate the scaling factors\n",
    "        w_percent = new_width / float(original_width)\n",
    "        h_size = int(original_height * w_percent)\n",
    "        \n",
    "        # Resize the image\n",
    "        img = img.resize((new_width, h_size), Image.LANCZOS)\n",
    "        img.save(input_img_path)\n",
    "        \n",
    "        # Load the associated points from the .txt file\n",
    "        with open(input_txt_path, 'r') as f:\n",
    "            points = [list(map(float, line.strip().split())) for line in f.readlines()]\n",
    "        \n",
    "        # Scale the points\n",
    "        scaled_points = [[p[0] * w_percent, p[1] * w_percent] for p in points]\n",
    "        \n",
    "        # Save the scaled points back to the .txt file\n",
    "        with open(input_txt_path, 'w') as f:\n",
    "            for point in scaled_points:\n",
    "                f.write(f\"{point[0]} {point[1]}\\n\")\n",
    "                \n",
    "def resize_images_and_scale_points_in_directory(directory_path, threshold_width=701, new_width=700):\n",
    "    for filename in os.listdir(directory_path):\n",
    "        if filename.endswith('.png') or filename.endswith('.jpg') or filename.endswith('.jpeg'):\n",
    "            img_path = os.path.join(directory_path, filename)\n",
    "            txt_path = os.path.splitext(img_path)[0] + \".txt\"\n",
    "            resize_and_scale_points(img_path, txt_path, threshold_width, new_width)\n",
    "\n",
    "resize_images_and_scale_points_in_directory('/home/ubuntu/P2PNet_/DATA_ROOT_UPDATED/val')"
   ]
  },
  {
   "cell_type": "code",
   "execution_count": 12,
   "metadata": {},
   "outputs": [],
   "source": [
    "import torch\n",
    "from torch import nn\n",
    "import torchvision.models as models\n",
    "from torchinfo import summary\n",
    "from pprint import pprint\n",
    "\n",
    "backbone_16 = models.vgg16_bn()\n",
    "backbone_19 = models.vgg19_bn()\n",
    "# features = list(backbone.features.children())\n",
    "# summary(backbone, input_size=(1,3,128,128))"
   ]
  },
  {
   "cell_type": "code",
   "execution_count": 13,
   "metadata": {},
   "outputs": [
    {
     "data": {
      "text/plain": [
       "==========================================================================================\n",
       "Layer (type:depth-idx)                   Output Shape              Param #\n",
       "==========================================================================================\n",
       "VGG                                      [1, 1000]                 --\n",
       "├─Sequential: 1-1                        [1, 512, 4, 4]            --\n",
       "│    └─Conv2d: 2-1                       [1, 64, 128, 128]         1,792\n",
       "│    └─BatchNorm2d: 2-2                  [1, 64, 128, 128]         128\n",
       "│    └─ReLU: 2-3                         [1, 64, 128, 128]         --\n",
       "│    └─Conv2d: 2-4                       [1, 64, 128, 128]         36,928\n",
       "│    └─BatchNorm2d: 2-5                  [1, 64, 128, 128]         128\n",
       "│    └─ReLU: 2-6                         [1, 64, 128, 128]         --\n",
       "│    └─MaxPool2d: 2-7                    [1, 64, 64, 64]           --\n",
       "│    └─Conv2d: 2-8                       [1, 128, 64, 64]          73,856\n",
       "│    └─BatchNorm2d: 2-9                  [1, 128, 64, 64]          256\n",
       "│    └─ReLU: 2-10                        [1, 128, 64, 64]          --\n",
       "│    └─Conv2d: 2-11                      [1, 128, 64, 64]          147,584\n",
       "│    └─BatchNorm2d: 2-12                 [1, 128, 64, 64]          256\n",
       "│    └─ReLU: 2-13                        [1, 128, 64, 64]          --\n",
       "│    └─MaxPool2d: 2-14                   [1, 128, 32, 32]          --\n",
       "│    └─Conv2d: 2-15                      [1, 256, 32, 32]          295,168\n",
       "│    └─BatchNorm2d: 2-16                 [1, 256, 32, 32]          512\n",
       "│    └─ReLU: 2-17                        [1, 256, 32, 32]          --\n",
       "│    └─Conv2d: 2-18                      [1, 256, 32, 32]          590,080\n",
       "│    └─BatchNorm2d: 2-19                 [1, 256, 32, 32]          512\n",
       "│    └─ReLU: 2-20                        [1, 256, 32, 32]          --\n",
       "│    └─Conv2d: 2-21                      [1, 256, 32, 32]          590,080\n",
       "│    └─BatchNorm2d: 2-22                 [1, 256, 32, 32]          512\n",
       "│    └─ReLU: 2-23                        [1, 256, 32, 32]          --\n",
       "│    └─MaxPool2d: 2-24                   [1, 256, 16, 16]          --\n",
       "│    └─Conv2d: 2-25                      [1, 512, 16, 16]          1,180,160\n",
       "│    └─BatchNorm2d: 2-26                 [1, 512, 16, 16]          1,024\n",
       "│    └─ReLU: 2-27                        [1, 512, 16, 16]          --\n",
       "│    └─Conv2d: 2-28                      [1, 512, 16, 16]          2,359,808\n",
       "│    └─BatchNorm2d: 2-29                 [1, 512, 16, 16]          1,024\n",
       "│    └─ReLU: 2-30                        [1, 512, 16, 16]          --\n",
       "│    └─Conv2d: 2-31                      [1, 512, 16, 16]          2,359,808\n",
       "│    └─BatchNorm2d: 2-32                 [1, 512, 16, 16]          1,024\n",
       "│    └─ReLU: 2-33                        [1, 512, 16, 16]          --\n",
       "│    └─MaxPool2d: 2-34                   [1, 512, 8, 8]            --\n",
       "│    └─Conv2d: 2-35                      [1, 512, 8, 8]            2,359,808\n",
       "│    └─BatchNorm2d: 2-36                 [1, 512, 8, 8]            1,024\n",
       "│    └─ReLU: 2-37                        [1, 512, 8, 8]            --\n",
       "│    └─Conv2d: 2-38                      [1, 512, 8, 8]            2,359,808\n",
       "│    └─BatchNorm2d: 2-39                 [1, 512, 8, 8]            1,024\n",
       "│    └─ReLU: 2-40                        [1, 512, 8, 8]            --\n",
       "│    └─Conv2d: 2-41                      [1, 512, 8, 8]            2,359,808\n",
       "│    └─BatchNorm2d: 2-42                 [1, 512, 8, 8]            1,024\n",
       "│    └─ReLU: 2-43                        [1, 512, 8, 8]            --\n",
       "│    └─MaxPool2d: 2-44                   [1, 512, 4, 4]            --\n",
       "├─AdaptiveAvgPool2d: 1-2                 [1, 512, 7, 7]            --\n",
       "├─Sequential: 1-3                        [1, 1000]                 --\n",
       "│    └─Linear: 2-45                      [1, 4096]                 102,764,544\n",
       "│    └─ReLU: 2-46                        [1, 4096]                 --\n",
       "│    └─Dropout: 2-47                     [1, 4096]                 --\n",
       "│    └─Linear: 2-48                      [1, 4096]                 16,781,312\n",
       "│    └─ReLU: 2-49                        [1, 4096]                 --\n",
       "│    └─Dropout: 2-50                     [1, 4096]                 --\n",
       "│    └─Linear: 2-51                      [1, 1000]                 4,097,000\n",
       "==========================================================================================\n",
       "Total params: 138,365,992\n",
       "Trainable params: 138,365,992\n",
       "Non-trainable params: 0\n",
       "Total mult-adds (G): 5.14\n",
       "==========================================================================================\n",
       "Input size (MB): 0.20\n",
       "Forward/backward pass size (MB): 70.85\n",
       "Params size (MB): 553.46\n",
       "Estimated Total Size (MB): 624.51\n",
       "=========================================================================================="
      ]
     },
     "execution_count": 13,
     "metadata": {},
     "output_type": "execute_result"
    }
   ],
   "source": [
    "summary(backbone_16, input_size=(1,3,128,128))"
   ]
  },
  {
   "cell_type": "code",
   "execution_count": 14,
   "metadata": {},
   "outputs": [
    {
     "data": {
      "text/plain": [
       "==========================================================================================\n",
       "Layer (type:depth-idx)                   Output Shape              Param #\n",
       "==========================================================================================\n",
       "VGG                                      [1, 1000]                 --\n",
       "├─Sequential: 1-1                        [1, 512, 4, 4]            --\n",
       "│    └─Conv2d: 2-1                       [1, 64, 128, 128]         1,792\n",
       "│    └─BatchNorm2d: 2-2                  [1, 64, 128, 128]         128\n",
       "│    └─ReLU: 2-3                         [1, 64, 128, 128]         --\n",
       "│    └─Conv2d: 2-4                       [1, 64, 128, 128]         36,928\n",
       "│    └─BatchNorm2d: 2-5                  [1, 64, 128, 128]         128\n",
       "│    └─ReLU: 2-6                         [1, 64, 128, 128]         --\n",
       "│    └─MaxPool2d: 2-7                    [1, 64, 64, 64]           --\n",
       "│    └─Conv2d: 2-8                       [1, 128, 64, 64]          73,856\n",
       "│    └─BatchNorm2d: 2-9                  [1, 128, 64, 64]          256\n",
       "│    └─ReLU: 2-10                        [1, 128, 64, 64]          --\n",
       "│    └─Conv2d: 2-11                      [1, 128, 64, 64]          147,584\n",
       "│    └─BatchNorm2d: 2-12                 [1, 128, 64, 64]          256\n",
       "│    └─ReLU: 2-13                        [1, 128, 64, 64]          --\n",
       "│    └─MaxPool2d: 2-14                   [1, 128, 32, 32]          --\n",
       "│    └─Conv2d: 2-15                      [1, 256, 32, 32]          295,168\n",
       "│    └─BatchNorm2d: 2-16                 [1, 256, 32, 32]          512\n",
       "│    └─ReLU: 2-17                        [1, 256, 32, 32]          --\n",
       "│    └─Conv2d: 2-18                      [1, 256, 32, 32]          590,080\n",
       "│    └─BatchNorm2d: 2-19                 [1, 256, 32, 32]          512\n",
       "│    └─ReLU: 2-20                        [1, 256, 32, 32]          --\n",
       "│    └─Conv2d: 2-21                      [1, 256, 32, 32]          590,080\n",
       "│    └─BatchNorm2d: 2-22                 [1, 256, 32, 32]          512\n",
       "│    └─ReLU: 2-23                        [1, 256, 32, 32]          --\n",
       "│    └─Conv2d: 2-24                      [1, 256, 32, 32]          590,080\n",
       "│    └─BatchNorm2d: 2-25                 [1, 256, 32, 32]          512\n",
       "│    └─ReLU: 2-26                        [1, 256, 32, 32]          --\n",
       "│    └─MaxPool2d: 2-27                   [1, 256, 16, 16]          --\n",
       "│    └─Conv2d: 2-28                      [1, 512, 16, 16]          1,180,160\n",
       "│    └─BatchNorm2d: 2-29                 [1, 512, 16, 16]          1,024\n",
       "│    └─ReLU: 2-30                        [1, 512, 16, 16]          --\n",
       "│    └─Conv2d: 2-31                      [1, 512, 16, 16]          2,359,808\n",
       "│    └─BatchNorm2d: 2-32                 [1, 512, 16, 16]          1,024\n",
       "│    └─ReLU: 2-33                        [1, 512, 16, 16]          --\n",
       "│    └─Conv2d: 2-34                      [1, 512, 16, 16]          2,359,808\n",
       "│    └─BatchNorm2d: 2-35                 [1, 512, 16, 16]          1,024\n",
       "│    └─ReLU: 2-36                        [1, 512, 16, 16]          --\n",
       "│    └─Conv2d: 2-37                      [1, 512, 16, 16]          2,359,808\n",
       "│    └─BatchNorm2d: 2-38                 [1, 512, 16, 16]          1,024\n",
       "│    └─ReLU: 2-39                        [1, 512, 16, 16]          --\n",
       "│    └─MaxPool2d: 2-40                   [1, 512, 8, 8]            --\n",
       "│    └─Conv2d: 2-41                      [1, 512, 8, 8]            2,359,808\n",
       "│    └─BatchNorm2d: 2-42                 [1, 512, 8, 8]            1,024\n",
       "│    └─ReLU: 2-43                        [1, 512, 8, 8]            --\n",
       "│    └─Conv2d: 2-44                      [1, 512, 8, 8]            2,359,808\n",
       "│    └─BatchNorm2d: 2-45                 [1, 512, 8, 8]            1,024\n",
       "│    └─ReLU: 2-46                        [1, 512, 8, 8]            --\n",
       "│    └─Conv2d: 2-47                      [1, 512, 8, 8]            2,359,808\n",
       "│    └─BatchNorm2d: 2-48                 [1, 512, 8, 8]            1,024\n",
       "│    └─ReLU: 2-49                        [1, 512, 8, 8]            --\n",
       "│    └─Conv2d: 2-50                      [1, 512, 8, 8]            2,359,808\n",
       "│    └─BatchNorm2d: 2-51                 [1, 512, 8, 8]            1,024\n",
       "│    └─ReLU: 2-52                        [1, 512, 8, 8]            --\n",
       "│    └─MaxPool2d: 2-53                   [1, 512, 4, 4]            --\n",
       "├─AdaptiveAvgPool2d: 1-2                 [1, 512, 7, 7]            --\n",
       "├─Sequential: 1-3                        [1, 1000]                 --\n",
       "│    └─Linear: 2-54                      [1, 4096]                 102,764,544\n",
       "│    └─ReLU: 2-55                        [1, 4096]                 --\n",
       "│    └─Dropout: 2-56                     [1, 4096]                 --\n",
       "│    └─Linear: 2-57                      [1, 4096]                 16,781,312\n",
       "│    └─ReLU: 2-58                        [1, 4096]                 --\n",
       "│    └─Dropout: 2-59                     [1, 4096]                 --\n",
       "│    └─Linear: 2-60                      [1, 1000]                 4,097,000\n",
       "==========================================================================================\n",
       "Total params: 143,678,248\n",
       "Trainable params: 143,678,248\n",
       "Non-trainable params: 0\n",
       "Total mult-adds (G): 6.50\n",
       "==========================================================================================\n",
       "Input size (MB): 0.20\n",
       "Forward/backward pass size (MB): 77.67\n",
       "Params size (MB): 574.71\n",
       "Estimated Total Size (MB): 652.58\n",
       "=========================================================================================="
      ]
     },
     "execution_count": 14,
     "metadata": {},
     "output_type": "execute_result"
    }
   ],
   "source": [
    "summary(backbone_19, input_size=(1,3,128,128))"
   ]
  },
  {
   "cell_type": "code",
   "execution_count": null,
   "metadata": {},
   "outputs": [],
   "source": [
    "# self.body1 = nn.Sequential(*features[:13])\n",
    "#                 self.body2 = nn.Sequential(*features[13:23])\n",
    "#                 self.body3 = nn.Sequential(*features[23:33])\n",
    "#                 self.body4 = nn.Sequential(*features[33:43])\n",
    "\n",
    "\n",
    "# self.body1 = nn.Sequential(*features[:16])  # Up to the first max pooling\n",
    "                # self.body2 = nn.Sequential(*features[16:27])  # Up to the second max pooling\n",
    "                # self.body3 = nn.Sequential(*features[27:40])  # Up to the third max pooling\n",
    "                # self.body4 = nn.Sequential(*features[40:53])"
   ]
  },
  {
   "cell_type": "code",
   "execution_count": 41,
   "metadata": {},
   "outputs": [
    {
     "name": "stdout",
     "output_type": "stream",
     "text": [
      "[MaxPool2d(kernel_size=2, stride=2, padding=0, dilation=1, ceil_mode=False),\n",
      " Conv2d(512, 512, kernel_size=(3, 3), stride=(1, 1), padding=(1, 1)),\n",
      " BatchNorm2d(512, eps=1e-05, momentum=0.1, affine=True, track_running_stats=True),\n",
      " ReLU(inplace=True),\n",
      " Conv2d(512, 512, kernel_size=(3, 3), stride=(1, 1), padding=(1, 1)),\n",
      " BatchNorm2d(512, eps=1e-05, momentum=0.1, affine=True, track_running_stats=True),\n",
      " ReLU(inplace=True),\n",
      " Conv2d(512, 512, kernel_size=(3, 3), stride=(1, 1), padding=(1, 1)),\n",
      " BatchNorm2d(512, eps=1e-05, momentum=0.1, affine=True, track_running_stats=True),\n",
      " ReLU(inplace=True)]\n"
     ]
    }
   ],
   "source": [
    "features_16 = list(backbone_16.features.children())\n",
    "pprint(features_16[33:43])"
   ]
  },
  {
   "cell_type": "code",
   "execution_count": 49,
   "metadata": {},
   "outputs": [
    {
     "name": "stdout",
     "output_type": "stream",
     "text": [
      "[MaxPool2d(kernel_size=2, stride=2, padding=0, dilation=1, ceil_mode=False),\n",
      " Conv2d(512, 512, kernel_size=(3, 3), stride=(1, 1), padding=(1, 1)),\n",
      " BatchNorm2d(512, eps=1e-05, momentum=0.1, affine=True, track_running_stats=True),\n",
      " ReLU(inplace=True),\n",
      " Conv2d(512, 512, kernel_size=(3, 3), stride=(1, 1), padding=(1, 1)),\n",
      " BatchNorm2d(512, eps=1e-05, momentum=0.1, affine=True, track_running_stats=True),\n",
      " ReLU(inplace=True),\n",
      " Conv2d(512, 512, kernel_size=(3, 3), stride=(1, 1), padding=(1, 1)),\n",
      " BatchNorm2d(512, eps=1e-05, momentum=0.1, affine=True, track_running_stats=True),\n",
      " ReLU(inplace=True),\n",
      " Conv2d(512, 512, kernel_size=(3, 3), stride=(1, 1), padding=(1, 1)),\n",
      " BatchNorm2d(512, eps=1e-05, momentum=0.1, affine=True, track_running_stats=True),\n",
      " ReLU(inplace=True)]\n"
     ]
    }
   ],
   "source": [
    "features_19 = list(backbone_19.features.children())\n",
    "pprint(features_19[39:52])"
   ]
  },
  {
   "cell_type": "code",
   "execution_count": null,
   "metadata": {},
   "outputs": [],
   "source": []
  },
  {
   "cell_type": "code",
   "execution_count": null,
   "metadata": {},
   "outputs": [],
   "source": []
  }
 ],
 "metadata": {
  "kernelspec": {
   "display_name": "p2p_8x_venv",
   "language": "python",
   "name": "python3"
  },
  "language_info": {
   "codemirror_mode": {
    "name": "ipython",
    "version": 3
   },
   "file_extension": ".py",
   "mimetype": "text/x-python",
   "name": "python",
   "nbconvert_exporter": "python",
   "pygments_lexer": "ipython3",
   "version": "3.8.10"
  }
 },
 "nbformat": 4,
 "nbformat_minor": 2
}
