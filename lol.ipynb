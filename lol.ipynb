{
 "cells": [
  {
   "cell_type": "code",
   "execution_count": 17,
   "metadata": {},
   "outputs": [],
   "source": [
    "import os\n",
    "from PIL import Image\n",
    "\n",
    "def resize_and_scale_points(input_img_path, input_txt_path, threshold_width=701, new_width=700):\n",
    "    # Open the image and check its size\n",
    "    img = Image.open(input_img_path)\n",
    "    original_width, original_height = img.size\n",
    "    \n",
    "    # If the image width exceeds the threshold, resize the image and adjust the points\n",
    "    if original_width > threshold_width:\n",
    "        # Calculate the scaling factors\n",
    "        w_percent = new_width / float(original_width)\n",
    "        h_size = int(original_height * w_percent)\n",
    "        \n",
    "        # Resize the image\n",
    "        img = img.resize((new_width, h_size), Image.LANCZOS)\n",
    "        img.save(input_img_path)\n",
    "        \n",
    "        # Load the associated points from the .txt file\n",
    "        with open(input_txt_path, 'r') as f:\n",
    "            points = [list(map(float, line.strip().split())) for line in f.readlines()]\n",
    "        \n",
    "        # Scale the points\n",
    "        scaled_points = [[p[0] * w_percent, p[1] * w_percent] for p in points]\n",
    "        \n",
    "        # Save the scaled points back to the .txt file\n",
    "        with open(input_txt_path, 'w') as f:\n",
    "            for point in scaled_points:\n",
    "                f.write(f\"{point[0]} {point[1]}\\n\")\n",
    "                \n",
    "def resize_images_and_scale_points_in_directory(directory_path, threshold_width=701, new_width=700):\n",
    "    for filename in os.listdir(directory_path):\n",
    "        if filename.endswith('.png') or filename.endswith('.jpg') or filename.endswith('.jpeg'):\n",
    "            img_path = os.path.join(directory_path, filename)\n",
    "            txt_path = os.path.splitext(img_path)[0] + \".txt\"\n",
    "            resize_and_scale_points(img_path, txt_path, threshold_width, new_width)\n",
    "\n",
    "resize_images_and_scale_points_in_directory('/home/ubuntu/P2PNet_/DATA_ROOT_UPDATED/val')"
   ]
  }
 ],
 "metadata": {
  "kernelspec": {
   "display_name": "p2p_8x_venv",
   "language": "python",
   "name": "python3"
  },
  "language_info": {
   "codemirror_mode": {
    "name": "ipython",
    "version": 3
   },
   "file_extension": ".py",
   "mimetype": "text/x-python",
   "name": "python",
   "nbconvert_exporter": "python",
   "pygments_lexer": "ipython3",
   "version": "3.8.10"
  }
 },
 "nbformat": 4,
 "nbformat_minor": 2
}
